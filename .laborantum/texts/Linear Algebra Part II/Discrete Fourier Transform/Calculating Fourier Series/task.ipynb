{
 "cells": [
  {
   "cell_type": "code",
   "execution_count": null,
   "metadata": {},
   "outputs": [],
   "source": [
    "import numpy as np\n",
    "import json_tricks"
   ]
  },
  {
   "cell_type": "code",
   "execution_count": null,
   "metadata": {},
   "outputs": [],
   "source": [
    "import numpy as np\n",
    "import scipy.integrate as integrate\n",
    "\n",
    "def constant_fourier(k):\n",
    "    result, _ = integrate.quad(\n",
    "        lambda x: 1 * np.exp(-2j * np.pi * k * x), \n",
    "        0, 1, epsabs=1e-14, epsrel=1e-14\n",
    "    )\n",
    "    return result\n",
    "\n",
    "def exp_fourier(k):\n",
    "    result, _ = integrate.quad(\n",
    "        lambda x: np.exp(x) * np.exp(-2j * np.pi * k * x), \n",
    "        0, 1, epsabs=1e-14, epsrel=1e-14\n",
    "    )\n",
    "    return result\n",
    "\n",
    "def x2_minus_x_fourier(k):\n",
    "    result, _ = integrate.quad(\n",
    "        lambda x: (x**2 - x) * np.exp(-2j * np.pi * k * x), \n",
    "        0, 1, epsabs=1e-14, epsrel=1e-14\n",
    "    )\n",
    "    return result \n",
    "\n",
    "k_values = np.arange(100)\n",
    "\n",
    "constant_coeffs = np.array([constant_fourier(k) for k in k_values], dtype=np.complex128)\n",
    "exp_coeffs = np.array([exp_fourier(k) for k in k_values], dtype=np.complex128)\n",
    "x2_minus_x_coeffs = np.array([x2_minus_x_fourier(k) for k in k_values], dtype=np.complex128)\n",
    "\n",
    "print(exp_coeffs)\n",
    "\n",
    "answer = {\n",
    "    'task1': constant_coeffs,\n",
    "    'task2': exp_coeffs,\n",
    "    'task3': x2_minus_x_coeffs\n",
    "}\n",
    "\n",
    "json_tricks.dump(answer, '.answer.json')"
   ]
  }
 ],
 "metadata": {
  "kernelspec": {
   "display_name": "Python 3",
   "language": "python",
   "name": "python3"
  },
  "language_info": {
   "codemirror_mode": {
    "name": "ipython",
    "version": 3
   },
   "file_extension": ".py",
   "mimetype": "text/x-python",
   "name": "python",
   "nbconvert_exporter": "python",
   "pygments_lexer": "ipython3",
   "version": "3.11.10"
  }
 },
 "nbformat": 4,
 "nbformat_minor": 2
}
