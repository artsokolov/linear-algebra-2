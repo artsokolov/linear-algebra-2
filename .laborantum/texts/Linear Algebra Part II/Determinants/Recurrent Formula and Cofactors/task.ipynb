{
 "cells": [
  {
   "cell_type": "code",
   "execution_count": 1,
   "metadata": {},
   "outputs": [],
   "source": [
    "import numpy as np\n",
    "import json_tricks"
   ]
  },
  {
   "cell_type": "code",
   "execution_count": null,
   "metadata": {},
   "outputs": [],
   "source": [
    "answer = {\n",
    "    'task1': {\n",
    "        'C1': np.array([[\n",
    "            1, 0, 0, -2\n",
    "        ]]).T,\n",
    "        'det': (\n",
    "            -1\n",
    "        )\n",
    "    },\n",
    "    'task2': {\n",
    "        'C1': np.array([[\n",
    "            1, 1, 0, 1\n",
    "        ]]),\n",
    "        'det': (\n",
    "            -1\n",
    "        )\n",
    "    }\n",
    "}"
   ]
  },
  {
   "cell_type": "code",
   "execution_count": null,
   "metadata": {},
   "outputs": [],
   "source": [
    "json_tricks.dump(answer, '.answer.json')"
   ]
  }
 ],
 "metadata": {
  "kernelspec": {
   "display_name": "Python 3",
   "language": "python",
   "name": "python3"
  },
  "language_info": {
   "codemirror_mode": {
    "name": "ipython",
    "version": 3
   },
   "file_extension": ".py",
   "mimetype": "text/x-python",
   "name": "python",
   "nbconvert_exporter": "python",
   "pygments_lexer": "ipython3",
   "version": "3.11.10"
  }
 },
 "nbformat": 4,
 "nbformat_minor": 2
}
