{
 "cells": [
  {
   "cell_type": "code",
   "execution_count": null,
   "metadata": {},
   "outputs": [],
   "source": [
    "import numpy as np\n",
    "import json_tricks"
   ]
  },
  {
   "cell_type": "code",
   "execution_count": null,
   "metadata": {},
   "outputs": [],
   "source": [
    "def task_1(x, y):\n",
    "\n",
    "    J = np.array([[2*x, 1],\n",
    "                  [y, x]])\n",
    "    \n",
    "    J_with_minus = np.array([[2*x, -1],\n",
    "                  [y, x]])\n",
    "    det_J = np.linalg.det(J_with_minus)\n",
    "    \n",
    "    return J, det_J\n",
    "\n",
    "\n",
    "def task_2(r, phi):\n",
    "\n",
    "    dx_dr = np.sin(phi)\n",
    "    dx_dphi = r * np.cos(phi)\n",
    "    dy_dr = np.cos(phi)\n",
    "    dy_dphi = -r * np.sin(phi)\n",
    "\n",
    "    J = np.array([[dx_dr, dx_dphi],\n",
    "                  [dy_dr, dy_dphi]])\n",
    "    \n",
    "    det_J = np.linalg.det(J)\n",
    "    return J, det_J"
   ]
  },
  {
   "cell_type": "code",
   "execution_count": null,
   "metadata": {},
   "outputs": [],
   "source": [
    "inputs = json_tricks.load('inputs.json')\n",
    "\n",
    "results = {\n",
    "    'task1': [],\n",
    "    'task2': []\n",
    "}\n",
    "\n",
    "for args in inputs['task1']:\n",
    "    print(inputs['task1'])\n",
    "    results['task1'].append(task_1(**args))\n",
    "\n",
    "for args in inputs['task2']:\n",
    "    results['task2'].append(task_2(**args))\n",
    "\n",
    "json_tricks.dump(results, '.answer.json')"
   ]
  }
 ],
 "metadata": {
  "kernelspec": {
   "display_name": "Python (Container)",
   "language": "python",
   "name": "container_env"
  },
  "language_info": {
   "codemirror_mode": {
    "name": "ipython",
    "version": 3
   },
   "file_extension": ".py",
   "mimetype": "text/x-python",
   "name": "python",
   "nbconvert_exporter": "python",
   "pygments_lexer": "ipython3",
   "version": "3.11.10"
  }
 },
 "nbformat": 4,
 "nbformat_minor": 2
}
