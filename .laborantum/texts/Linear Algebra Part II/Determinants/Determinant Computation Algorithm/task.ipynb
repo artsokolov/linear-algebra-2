{
 "cells": [
  {
   "cell_type": "code",
   "execution_count": 1,
   "metadata": {},
   "outputs": [],
   "source": [
    "import numpy as np\n",
    "import json_tricks\n",
    "import scipy"
   ]
  },
  {
   "cell_type": "code",
   "execution_count": null,
   "metadata": {},
   "outputs": [],
   "source": [
    "from scipy.linalg import lu_factor, lu_solve\n",
    "def determinant_fast(A):\n",
    "    ### YOUR CODE HERE ###\n",
    "    A = A.astype(np.float64)\n",
    "\n",
    "    cor_det = np.linalg.det(A)\n",
    "    \n",
    "    lu, piv = lu_factor(A)\n",
    "    \n",
    "    det = np.prod(np.diag(lu))\n",
    "\n",
    "    diag_lu = np.diag(lu)\n",
    "\n",
    "    adjusted_pivots = diag_lu\n",
    "\n",
    "    if det != 0:\n",
    "        adjusted_pivots = diag_lu * det / np.prod(diag_lu)\n",
    "    \n",
    "    return det, adjusted_pivots"
   ]
  },
  {
   "cell_type": "code",
   "execution_count": 1,
   "metadata": {},
   "outputs": [
    {
     "ename": "NameError",
     "evalue": "name 'json_tricks' is not defined",
     "output_type": "error",
     "traceback": [
      "\u001b[0;31m---------------------------------------------------------------------------\u001b[0m",
      "\u001b[0;31mNameError\u001b[0m                                 Traceback (most recent call last)",
      "Cell \u001b[0;32mIn[1], line 1\u001b[0m\n\u001b[0;32m----> 1\u001b[0m inputs \u001b[38;5;241m=\u001b[39m \u001b[43mjson_tricks\u001b[49m\u001b[38;5;241m.\u001b[39mload(\u001b[38;5;124m'\u001b[39m\u001b[38;5;124minputs.json\u001b[39m\u001b[38;5;124m'\u001b[39m)\n\u001b[1;32m      3\u001b[0m results \u001b[38;5;241m=\u001b[39m {\u001b[38;5;124m'\u001b[39m\u001b[38;5;124mresults\u001b[39m\u001b[38;5;124m'\u001b[39m: []}\n\u001b[1;32m      4\u001b[0m \u001b[38;5;28;01mfor\u001b[39;00m args \u001b[38;5;129;01min\u001b[39;00m inputs[\u001b[38;5;124m'\u001b[39m\u001b[38;5;124minputs\u001b[39m\u001b[38;5;124m'\u001b[39m]:\n",
      "\u001b[0;31mNameError\u001b[0m: name 'json_tricks' is not defined"
     ]
    }
   ],
   "source": [
    "inputs = json_tricks.load('inputs.json')\n",
    "\n",
    "results = {'results': []}\n",
    "for args in inputs['inputs']:\n",
    "    res = determinant_fast(**args)\n",
    "    results['results'].append(res)\n",
    "\n",
    "json_tricks.dump(results, '.answer.json')\n"
   ]
  }
 ],
 "metadata": {
  "kernelspec": {
   "display_name": "Python 3",
   "language": "python",
   "name": "python3"
  },
  "language_info": {
   "codemirror_mode": {
    "name": "ipython",
    "version": 3
   },
   "file_extension": ".py",
   "mimetype": "text/x-python",
   "name": "python",
   "nbconvert_exporter": "python",
   "pygments_lexer": "ipython3",
   "version": "3.11.10"
  }
 },
 "nbformat": 4,
 "nbformat_minor": 2
}
